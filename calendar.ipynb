{
 "cells": [
  {
   "cell_type": "code",
   "execution_count": 5,
   "metadata": {},
   "outputs": [],
   "source": [
    "from google.oauth2 import service_account\n",
    "from googleapiclient.discovery import build\n",
    "from pprint import pprint\n",
    "from pathlib import Path"
   ]
  },
  {
   "cell_type": "code",
   "execution_count": 6,
   "metadata": {},
   "outputs": [],
   "source": [
    "credentials = service_account.Credentials.from_service_account_file(\n",
    "    Path.home() / \"scoutsbevaixch-ed0be69d546e.json\",\n",
    "    scopes=['https://www.googleapis.com/auth/calendar']\n",
    ")\n",
    "\n",
    "service = build('calendar', 'v3', credentials=credentials)\n",
    "tz = \"Europe/Zurich\"\n",
    "owner = \"raphael.margueron@gmail.com\""
   ]
  },
  {
   "cell_type": "code",
   "execution_count": 7,
   "metadata": {},
   "outputs": [],
   "source": [
    "def create_calendar(name):\n",
    "    calendar = {\n",
    "        'summary': name,\n",
    "        'timeZone': tz\n",
    "    }\n",
    "\n",
    "    cal = service.calendars().insert(body=calendar).execute()\n",
    "\n",
    "    rule = {\n",
    "        \"scope\": {\n",
    "            \"type\": \"user\",\n",
    "            \"value\": owner\n",
    "        },\n",
    "        \"role\": \"owner\"\n",
    "    }\n",
    "    service.acl().insert(calendarId=cal[\"id\"], body=rule).execute()"
   ]
  },
  {
   "cell_type": "code",
   "execution_count": null,
   "metadata": {},
   "outputs": [],
   "source": [
    "# create_calendar(\"Scouts Bevaix - Séances\")\n",
    "# create_calendar(\"Scouts Bevaix - Locations\")\n",
    "create_calendar(\"Scouts Bevaix - Demandes Locations\")"
   ]
  },
  {
   "cell_type": "code",
   "execution_count": null,
   "metadata": {},
   "outputs": [
    {
     "name": "stdout",
     "output_type": "stream",
     "text": [
      "{'accessRole': 'owner',\n",
      " 'backgroundColor': '#cabdbf',\n",
      " 'colorId': '20',\n",
      " 'defaultReminders': [],\n",
      " 'etag': '\"1710583073881000\"',\n",
      " 'foregroundColor': '#000000',\n",
      " 'id': '9d172e4d24ddbfef79cced073002b0bae1697580fbcd6db9c7e5bb9e1327ed54@group.calendar.google.com',\n",
      " 'kind': 'calendar#calendarListEntry',\n",
      " 'selected': True,\n",
      " 'summary': 'Scouts Bevaix - Locations',\n",
      " 'timeZone': 'Europe/Zurich'}\n",
      "{'accessRole': 'owner',\n",
      " 'backgroundColor': '#cd74e6',\n",
      " 'colorId': '23',\n",
      " 'defaultReminders': [],\n",
      " 'etag': '\"1710583082272000\"',\n",
      " 'foregroundColor': '#000000',\n",
      " 'id': '308c17c8ccee6a1cf91c96eee9d316bdc9264d0cfa484f37c34714ee4ef1e558@group.calendar.google.com',\n",
      " 'kind': 'calendar#calendarListEntry',\n",
      " 'selected': True,\n",
      " 'summary': 'Scouts Bevaix - Séances',\n",
      " 'timeZone': 'Europe/Zurich'}\n",
      "{'accessRole': 'owner',\n",
      " 'backgroundColor': '#ac725e',\n",
      " 'colorId': '1',\n",
      " 'defaultReminders': [],\n",
      " 'etag': '\"1710607510001000\"',\n",
      " 'foregroundColor': '#000000',\n",
      " 'id': 'be8dd3919b9e8007688324cf459fd016b9d782ecff4c2402c101645e83809814@group.calendar.google.com',\n",
      " 'kind': 'calendar#calendarListEntry',\n",
      " 'selected': True,\n",
      " 'summary': 'scouts-bevaix.ch - Locations',\n",
      " 'timeZone': 'Europe/Zurich'}\n"
     ]
    }
   ],
   "source": [
    "page_token = None\n",
    "while True:\n",
    "    calendar_list = service.calendarList().list(pageToken=page_token).execute()\n",
    "    for c in calendar_list[\"items\"]:\n",
    "        pprint(c)\n",
    "    page_token = calendar_list.get('nextPageToken')\n",
    "    if not page_token:\n",
    "        break"
   ]
  }
 ],
 "metadata": {
  "kernelspec": {
   "display_name": "Python 3",
   "language": "python",
   "name": "python3"
  },
  "language_info": {
   "codemirror_mode": {
    "name": "ipython",
    "version": 3
   },
   "file_extension": ".py",
   "mimetype": "text/x-python",
   "name": "python",
   "nbconvert_exporter": "python",
   "pygments_lexer": "ipython3",
   "version": "3.10.6"
  }
 },
 "nbformat": 4,
 "nbformat_minor": 2
}
